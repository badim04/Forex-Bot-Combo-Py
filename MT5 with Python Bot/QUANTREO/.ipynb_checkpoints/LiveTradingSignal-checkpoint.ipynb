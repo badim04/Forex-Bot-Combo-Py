{
 "cells": [
  {
   "cell_type": "code",
   "execution_count": null,
   "id": "a46ddb8e",
   "metadata": {},
   "outputs": [],
   "source": [
    "import numpy as np\n",
    "from Quantreo.MetaTrader5 import *\n",
    "\n",
    "\n",
    "\n",
    "def random(symbol):\n",
    "    values = [True, False]\n",
    "    buy = np.random.choice(values)\n",
    "    sell = not buy\n",
    "    return buy, sell\n",
    "\n"
   ]
  }
 ],
 "metadata": {
  "kernelspec": {
   "display_name": "Python 3 (ipykernel)",
   "language": "python",
   "name": "python3"
  },
  "language_info": {
   "codemirror_mode": {
    "name": "ipython",
    "version": 3
   },
   "file_extension": ".py",
   "mimetype": "text/x-python",
   "name": "python",
   "nbconvert_exporter": "python",
   "pygments_lexer": "ipython3",
   "version": "3.9.7"
  }
 },
 "nbformat": 4,
 "nbformat_minor": 5
}
