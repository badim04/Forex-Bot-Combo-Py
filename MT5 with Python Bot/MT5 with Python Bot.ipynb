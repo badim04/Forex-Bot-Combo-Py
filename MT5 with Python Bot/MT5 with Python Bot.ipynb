{
 "cells": [
  {
   "cell_type": "code",
   "execution_count": 1,
   "id": "73da9d6d",
   "metadata": {},
   "outputs": [],
   "source": [
    "# pip install MetaTrader5"
   ]
  },
  {
   "cell_type": "code",
   "execution_count": 2,
   "id": "5d219c4f",
   "metadata": {},
   "outputs": [],
   "source": [
    "#Import libraries\n",
    "import MetaTrader5 as mt5\n",
    "import pandas as pd\n",
    "import numpy as np\n",
    "import pytz\n",
    "from datetime import datetime\n",
    "from datetime import timedelta"
   ]
  },
  {
   "cell_type": "code",
   "execution_count": 3,
   "id": "96ac535d",
   "metadata": {},
   "outputs": [],
   "source": [
    "#pip install --upgrade MetaTrader5"
   ]
  },
  {
   "cell_type": "code",
   "execution_count": 4,
   "id": "83b3205d",
   "metadata": {},
   "outputs": [
    {
     "name": "stdout",
     "output_type": "stream",
     "text": [
      "MetaTrader5 package author:  MetaQuotes Ltd.\n",
      "MetaTrader5 package version:  5.0.4200\n"
     ]
    }
   ],
   "source": [
    "import MetaTrader5 as mt5\n",
    "# display data on the MetaTrader 5 package\n",
    "print(\"MetaTrader5 package author: \",mt5.__author__)\n",
    "print(\"MetaTrader5 package version: \",mt5.__version__)\n"
   ]
  },
  {
   "cell_type": "code",
   "execution_count": 5,
   "id": "d4e09b78",
   "metadata": {},
   "outputs": [],
   "source": [
    "# establish MetaTrader 5 connection to a specified trading account\n",
    "if not mt5.initialize(login=10002126056, server=\"MetaQuotes-Demo\",password=\"U+7eXcYp\"):\n",
    "    print(\"initialize() failed, error code =\",mt5.last_error())\n",
    "    quit()\n"
   ]
  },
  {
   "cell_type": "code",
   "execution_count": 6,
   "id": "330607e4",
   "metadata": {},
   "outputs": [
    {
     "name": "stdout",
     "output_type": "stream",
     "text": [
      "TerminalInfo(community_account=False, community_connection=False, connected=True, dlls_allowed=False, trade_allowed=True, tradeapi_disabled=False, email_enabled=False, ftp_enabled=False, notifications_enabled=False, mqid=False, build=4260, maxbars=100000, codepage=0, ping_last=117320, community_balance=0.0, retransmission=1.118432769367765, company='MetaQuotes Software Corp.', name='MetaTrader 5', language='English', path='C:\\\\Program Files\\\\MetaTrader 5', data_path='C:\\\\Users\\\\NOC\\\\AppData\\\\Roaming\\\\MetaQuotes\\\\Terminal\\\\D0E8209F77C8CF37AD8BF550E51FF075', commondata_path='C:\\\\Users\\\\NOC\\\\AppData\\\\Roaming\\\\MetaQuotes\\\\Terminal\\\\Common')\n"
     ]
    }
   ],
   "source": [
    "# display data on connection status, server name and trading account\n",
    "print(mt5.terminal_info())\n"
   ]
  },
  {
   "cell_type": "code",
   "execution_count": 7,
   "id": "fe2ff8f2",
   "metadata": {},
   "outputs": [
    {
     "name": "stdout",
     "output_type": "stream",
     "text": [
      "(500, 4260, '22 Mar 2024')\n"
     ]
    }
   ],
   "source": [
    "# display data on MetaTrader 5 version\n",
    "print(mt5.version())\n",
    " \n"
   ]
  },
  {
   "cell_type": "code",
   "execution_count": 8,
   "id": "fc564edd",
   "metadata": {},
   "outputs": [],
   "source": [
    "# shut down connection to the MetaTrader 5 terminal\n",
    "# mt5.shutdown()"
   ]
  },
  {
   "cell_type": "code",
   "execution_count": null,
   "id": "5ffc0312",
   "metadata": {},
   "outputs": [],
   "source": []
  },
  {
   "cell_type": "code",
   "execution_count": null,
   "id": "333c40a2",
   "metadata": {},
   "outputs": [],
   "source": []
  },
  {
   "cell_type": "code",
   "execution_count": null,
   "id": "41ba7b12",
   "metadata": {},
   "outputs": [],
   "source": []
  },
  {
   "cell_type": "markdown",
   "id": "91e7ecce",
   "metadata": {},
   "source": [
    "# Connecting mt5\n",
    "account = 48438229\n",
    "authorized = mt5.login(account, password=\"Mq3p8!tJ\", server=\"HFMarketsGlobal-Demo\")\n",
    "if authorized:\n",
    "    account_info_dict = mt5.account_info()._asdict()\n",
    "    for prop in account_info_dict:\n",
    "        print(\" {}={}\".format(prop, account_info_dict[prop]))\n",
    "else:\n",
    "    print(\"Failed to connect at account #{}, error code: {}\".format(account, mt5.last_error()))\n",
    "    "
   ]
  },
  {
   "cell_type": "code",
   "execution_count": 9,
   "id": "7aa33672",
   "metadata": {},
   "outputs": [],
   "source": [
    "# set time zone to UTC\n",
    "timezone = pytz.timezone(\"Etc/UTC\")\n"
   ]
  },
  {
   "cell_type": "code",
   "execution_count": 10,
   "id": "b909482d",
   "metadata": {},
   "outputs": [],
   "source": [
    "# select symbol\n",
    "selected = mt5.symbol_select(\"GBPUSD\", True)\n",
    "if not selected:\n",
    "    print(\"Failed to select symbol\")\n",
    "    mt5.shutdown()\n",
    "    quit()\n",
    "    "
   ]
  },
  {
   "cell_type": "code",
   "execution_count": 11,
   "id": "061b4643",
   "metadata": {},
   "outputs": [],
   "source": [
    "# create datetime object in UTC time zone to avoid the implementation of a local time zone offset\n",
    "utc_from = datetime(2021, 10, 31, tzinfo = timezone)\n",
    "utc_to = datetime(2022, 10, 31, tzinfo = timezone)\n"
   ]
  },
  {
   "cell_type": "code",
   "execution_count": 12,
   "id": "ec390d60",
   "metadata": {},
   "outputs": [],
   "source": [
    "# get the bar data\n",
    "rates_H4 = mt5.copy_rates_range(\"GBPUSD\", mt5.TIMEFRAME_H4, utc_from, utc_to)\n"
   ]
  },
  {
   "cell_type": "code",
   "execution_count": 13,
   "id": "ca9e9d02",
   "metadata": {},
   "outputs": [
    {
     "data": {
      "text/plain": [
       "True"
      ]
     },
     "execution_count": 13,
     "metadata": {},
     "output_type": "execute_result"
    }
   ],
   "source": [
    "# shut down connection to the Metatrader 5 terminal\n",
    "mt5.shutdown()\n"
   ]
  },
  {
   "cell_type": "code",
   "execution_count": 14,
   "id": "926dc6ed",
   "metadata": {},
   "outputs": [
    {
     "data": {
      "text/plain": [
       "array([(1635724800, 1.36807, 1.36878, 1.36655, 1.36814,  8127, 0, 0),\n",
       "       (1635739200, 1.36812, 1.36876, 1.36723, 1.36866,  8848, 0, 0),\n",
       "       (1635753600, 1.36867, 1.36867, 1.36427, 1.36561, 21170, 0, 0), ...,\n",
       "       (1666972800, 1.15388, 1.16   , 1.15335, 1.15884, 53323, 0, 0),\n",
       "       (1666987200, 1.15884, 1.16233, 1.15827, 1.16141, 15877, 4, 0),\n",
       "       (1667174400, 1.15858, 1.16134, 1.15795, 1.1594 , 23578, 0, 0)],\n",
       "      dtype=[('time', '<i8'), ('open', '<f8'), ('high', '<f8'), ('low', '<f8'), ('close', '<f8'), ('tick_volume', '<u8'), ('spread', '<i4'), ('real_volume', '<u8')])"
      ]
     },
     "execution_count": 14,
     "metadata": {},
     "output_type": "execute_result"
    }
   ],
   "source": [
    "rates_H4"
   ]
  },
  {
   "cell_type": "code",
   "execution_count": 15,
   "id": "0f055ecc",
   "metadata": {},
   "outputs": [],
   "source": [
    "# put received rates into dataframe\n",
    "df_raw = pd.DataFrame(rates_H4)\n",
    "\n",
    "# convert time in seconds into the datetime format\n",
    "df_raw['time'] = pd.to_datetime(df_raw['time'], unit = 's')\n"
   ]
  },
  {
   "cell_type": "code",
   "execution_count": 16,
   "id": "dae14d96",
   "metadata": {},
   "outputs": [
    {
     "data": {
      "text/html": [
       "<div>\n",
       "<style scoped>\n",
       "    .dataframe tbody tr th:only-of-type {\n",
       "        vertical-align: middle;\n",
       "    }\n",
       "\n",
       "    .dataframe tbody tr th {\n",
       "        vertical-align: top;\n",
       "    }\n",
       "\n",
       "    .dataframe thead th {\n",
       "        text-align: right;\n",
       "    }\n",
       "</style>\n",
       "<table border=\"1\" class=\"dataframe\">\n",
       "  <thead>\n",
       "    <tr style=\"text-align: right;\">\n",
       "      <th></th>\n",
       "      <th>time</th>\n",
       "      <th>open</th>\n",
       "      <th>high</th>\n",
       "      <th>low</th>\n",
       "      <th>close</th>\n",
       "      <th>tick_volume</th>\n",
       "      <th>spread</th>\n",
       "      <th>real_volume</th>\n",
       "    </tr>\n",
       "  </thead>\n",
       "  <tbody>\n",
       "    <tr>\n",
       "      <th>0</th>\n",
       "      <td>2021-11-01 00:00:00</td>\n",
       "      <td>1.36807</td>\n",
       "      <td>1.36878</td>\n",
       "      <td>1.36655</td>\n",
       "      <td>1.36814</td>\n",
       "      <td>8127</td>\n",
       "      <td>0</td>\n",
       "      <td>0</td>\n",
       "    </tr>\n",
       "    <tr>\n",
       "      <th>1</th>\n",
       "      <td>2021-11-01 04:00:00</td>\n",
       "      <td>1.36812</td>\n",
       "      <td>1.36876</td>\n",
       "      <td>1.36723</td>\n",
       "      <td>1.36866</td>\n",
       "      <td>8848</td>\n",
       "      <td>0</td>\n",
       "      <td>0</td>\n",
       "    </tr>\n",
       "    <tr>\n",
       "      <th>2</th>\n",
       "      <td>2021-11-01 08:00:00</td>\n",
       "      <td>1.36867</td>\n",
       "      <td>1.36867</td>\n",
       "      <td>1.36427</td>\n",
       "      <td>1.36561</td>\n",
       "      <td>21170</td>\n",
       "      <td>0</td>\n",
       "      <td>0</td>\n",
       "    </tr>\n",
       "    <tr>\n",
       "      <th>3</th>\n",
       "      <td>2021-11-01 12:00:00</td>\n",
       "      <td>1.36563</td>\n",
       "      <td>1.36934</td>\n",
       "      <td>1.36419</td>\n",
       "      <td>1.36735</td>\n",
       "      <td>18994</td>\n",
       "      <td>0</td>\n",
       "      <td>0</td>\n",
       "    </tr>\n",
       "    <tr>\n",
       "      <th>4</th>\n",
       "      <td>2021-11-01 16:00:00</td>\n",
       "      <td>1.36735</td>\n",
       "      <td>1.36926</td>\n",
       "      <td>1.36531</td>\n",
       "      <td>1.36600</td>\n",
       "      <td>20233</td>\n",
       "      <td>0</td>\n",
       "      <td>0</td>\n",
       "    </tr>\n",
       "    <tr>\n",
       "      <th>...</th>\n",
       "      <td>...</td>\n",
       "      <td>...</td>\n",
       "      <td>...</td>\n",
       "      <td>...</td>\n",
       "      <td>...</td>\n",
       "      <td>...</td>\n",
       "      <td>...</td>\n",
       "      <td>...</td>\n",
       "    </tr>\n",
       "    <tr>\n",
       "      <th>1556</th>\n",
       "      <td>2022-10-28 08:00:00</td>\n",
       "      <td>1.15722</td>\n",
       "      <td>1.15733</td>\n",
       "      <td>1.15035</td>\n",
       "      <td>1.15269</td>\n",
       "      <td>43401</td>\n",
       "      <td>1</td>\n",
       "      <td>0</td>\n",
       "    </tr>\n",
       "    <tr>\n",
       "      <th>1557</th>\n",
       "      <td>2022-10-28 12:00:00</td>\n",
       "      <td>1.15274</td>\n",
       "      <td>1.15751</td>\n",
       "      <td>1.15125</td>\n",
       "      <td>1.15387</td>\n",
       "      <td>47452</td>\n",
       "      <td>0</td>\n",
       "      <td>0</td>\n",
       "    </tr>\n",
       "    <tr>\n",
       "      <th>1558</th>\n",
       "      <td>2022-10-28 16:00:00</td>\n",
       "      <td>1.15388</td>\n",
       "      <td>1.16000</td>\n",
       "      <td>1.15335</td>\n",
       "      <td>1.15884</td>\n",
       "      <td>53323</td>\n",
       "      <td>0</td>\n",
       "      <td>0</td>\n",
       "    </tr>\n",
       "    <tr>\n",
       "      <th>1559</th>\n",
       "      <td>2022-10-28 20:00:00</td>\n",
       "      <td>1.15884</td>\n",
       "      <td>1.16233</td>\n",
       "      <td>1.15827</td>\n",
       "      <td>1.16141</td>\n",
       "      <td>15877</td>\n",
       "      <td>4</td>\n",
       "      <td>0</td>\n",
       "    </tr>\n",
       "    <tr>\n",
       "      <th>1560</th>\n",
       "      <td>2022-10-31 00:00:00</td>\n",
       "      <td>1.15858</td>\n",
       "      <td>1.16134</td>\n",
       "      <td>1.15795</td>\n",
       "      <td>1.15940</td>\n",
       "      <td>23578</td>\n",
       "      <td>0</td>\n",
       "      <td>0</td>\n",
       "    </tr>\n",
       "  </tbody>\n",
       "</table>\n",
       "<p>1561 rows × 8 columns</p>\n",
       "</div>"
      ],
      "text/plain": [
       "                    time     open     high      low    close  tick_volume  \\\n",
       "0    2021-11-01 00:00:00  1.36807  1.36878  1.36655  1.36814         8127   \n",
       "1    2021-11-01 04:00:00  1.36812  1.36876  1.36723  1.36866         8848   \n",
       "2    2021-11-01 08:00:00  1.36867  1.36867  1.36427  1.36561        21170   \n",
       "3    2021-11-01 12:00:00  1.36563  1.36934  1.36419  1.36735        18994   \n",
       "4    2021-11-01 16:00:00  1.36735  1.36926  1.36531  1.36600        20233   \n",
       "...                  ...      ...      ...      ...      ...          ...   \n",
       "1556 2022-10-28 08:00:00  1.15722  1.15733  1.15035  1.15269        43401   \n",
       "1557 2022-10-28 12:00:00  1.15274  1.15751  1.15125  1.15387        47452   \n",
       "1558 2022-10-28 16:00:00  1.15388  1.16000  1.15335  1.15884        53323   \n",
       "1559 2022-10-28 20:00:00  1.15884  1.16233  1.15827  1.16141        15877   \n",
       "1560 2022-10-31 00:00:00  1.15858  1.16134  1.15795  1.15940        23578   \n",
       "\n",
       "      spread  real_volume  \n",
       "0          0            0  \n",
       "1          0            0  \n",
       "2          0            0  \n",
       "3          0            0  \n",
       "4          0            0  \n",
       "...      ...          ...  \n",
       "1556       1            0  \n",
       "1557       0            0  \n",
       "1558       0            0  \n",
       "1559       4            0  \n",
       "1560       0            0  \n",
       "\n",
       "[1561 rows x 8 columns]"
      ]
     },
     "execution_count": 16,
     "metadata": {},
     "output_type": "execute_result"
    }
   ],
   "source": [
    "df_raw"
   ]
  },
  {
   "cell_type": "code",
   "execution_count": 17,
   "id": "d235831a",
   "metadata": {},
   "outputs": [
    {
     "name": "stdout",
     "output_type": "stream",
     "text": [
      "All bars in given timeframe: 1561\n",
      "Bull bars in given timeframe: 779 50%\n",
      "Bear bars in given timeframe: 780 50%\n"
     ]
    }
   ],
   "source": [
    "# count bull and bear bars\n",
    "all_bars = len(df_raw.index)\n",
    "bulls = 0\n",
    "bears = 0\n",
    "for pos, d in df_raw.iterrows():\n",
    "    if(d.close > d.open):\n",
    "        bulls += 1\n",
    "    elif(d.close < d.open):\n",
    "        bears += 1\n",
    "        \n",
    "print(f'All bars in given timeframe: {all_bars}')\n",
    "print(f'Bull bars in given timeframe: {bulls} {bulls*100/all_bars:.0f}%')\n",
    "print(f'Bear bars in given timeframe: {bears} {bears*100/all_bars:.0f}%')"
   ]
  },
  {
   "cell_type": "code",
   "execution_count": null,
   "id": "862eb183",
   "metadata": {},
   "outputs": [],
   "source": [
    "import tradingview_ta\n",
    "\n",
    "# Set your API credentials\n",
    "api_key = \"YOUR_API_KEY\"\n",
    "api_secret = \"YOUR_API_SECRET\"\n",
    "\n",
    "# Set the PineScript code\n",
    "pinescript_code = \"\"\"\n",
    "// Your PineScript code here\n",
    "\"\"\"\n",
    "\n",
    "# Execute the PineScript code\n",
    "result = tradingview_ta.execute_pinescript(\n",
    "    api_key=api_key,\n",
    "    api_secret=api_secret,\n",
    "    script=pinescript_code\n",
    ")\n",
    "\n",
    "# Print the result\n",
    "print(result)"
   ]
  },
  {
   "cell_type": "code",
   "execution_count": null,
   "id": "67ce0366",
   "metadata": {},
   "outputs": [],
   "source": []
  },
  {
   "cell_type": "code",
   "execution_count": null,
   "id": "6d1aeb80",
   "metadata": {},
   "outputs": [],
   "source": []
  },
  {
   "cell_type": "code",
   "execution_count": null,
   "id": "5b38ce74",
   "metadata": {},
   "outputs": [],
   "source": []
  },
  {
   "cell_type": "code",
   "execution_count": null,
   "id": "8607a0d4",
   "metadata": {},
   "outputs": [],
   "source": []
  }
 ],
 "metadata": {
  "kernelspec": {
   "display_name": "Python 3 (ipykernel)",
   "language": "python",
   "name": "python3"
  },
  "language_info": {
   "codemirror_mode": {
    "name": "ipython",
    "version": 3
   },
   "file_extension": ".py",
   "mimetype": "text/x-python",
   "name": "python",
   "nbconvert_exporter": "python",
   "pygments_lexer": "ipython3",
   "version": "3.9.7"
  }
 },
 "nbformat": 4,
 "nbformat_minor": 5
}
