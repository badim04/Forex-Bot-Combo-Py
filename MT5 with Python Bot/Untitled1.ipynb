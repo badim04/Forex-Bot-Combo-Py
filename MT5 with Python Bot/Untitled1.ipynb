{
 "cells": [
  {
   "cell_type": "code",
   "execution_count": null,
   "id": "2fced32c",
   "metadata": {},
   "outputs": [],
   "source": [
    "from selenium import webdriver\n",
    "from selenium.webdriver.common.by import By\n",
    "from selenium.webdriver.chrome.service import Service\n",
    "from selenium.webdriver.chrome.options import Options\n",
    "import pandas as pd\n",
    "import time\n",
    "\n",
    "# Setup Chrome options\n",
    "chrome_options = Options()\n",
    "chrome_options.add_argument(\"--headless\")  # Run in headless mode\n",
    "chrome_options.add_argument(\"--disable-gpu\")\n",
    "chrome_options.add_argument(\"--no-sandbox\")\n",
    "\n",
    "# Path to ChromeDriver\n",
    "chrome_service = Service('/path/to/chromedriver')\n",
    "\n",
    "# Initialize the WebDriver\n",
    "driver = webdriver.Chrome(service=chrome_service, options=chrome_options)\n",
    "\n",
    "# URL of the live roulette game\n",
    "url = 'https://www.example.com/live-roulette'\n",
    "\n",
    "# Open the URL\n",
    "driver.get(url)\n",
    "\n",
    "# List to store outcomes\n",
    "outcomes = []\n",
    "\n",
    "# Function to scrape outcomes\n",
    "def scrape_outcomes():\n",
    "    # Locate the HTML element containing the outcomes (modify the selector as needed)\n",
    "    elements = driver.find_elements(By.CSS_SELECTOR, '.roulette-outcome')\n",
    "    for element in elements:\n",
    "        outcomes.append(element.text)\n",
    "\n",
    "# Continuous scraping (for demonstration purposes, a limited loop)\n",
    "for _ in range(10):  # Adjust the range for longer scraping\n",
    "    scrape_outcomes()\n",
    "    time.sleep(10)  # Adjust the sleep time as needed\n",
    "\n",
    "# Close the WebDriver\n",
    "driver.quit()\n",
    "\n",
    "# Create a DataFrame and save to CSV\n",
    "df = pd.DataFrame(outcomes, columns=['Outcome'])\n",
    "df.to_csv('roulette_outcomes.csv', index=False)\n",
    "\n",
    "print(df.head())\n"
   ]
  }
 ],
 "metadata": {
  "kernelspec": {
   "display_name": "Python 3 (ipykernel)",
   "language": "python",
   "name": "python3"
  },
  "language_info": {
   "codemirror_mode": {
    "name": "ipython",
    "version": 3
   },
   "file_extension": ".py",
   "mimetype": "text/x-python",
   "name": "python",
   "nbconvert_exporter": "python",
   "pygments_lexer": "ipython3",
   "version": "3.12.4"
  }
 },
 "nbformat": 4,
 "nbformat_minor": 5
}
