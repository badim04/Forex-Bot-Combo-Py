{
 "cells": [
  {
   "cell_type": "code",
   "execution_count": 1,
   "id": "41200f76",
   "metadata": {},
   "outputs": [],
   "source": [
    "#Import libraries\n",
    "import MetaTrader5 as mt5\n",
    "import pandas as pd\n",
    "import numpy as np\n",
    "import pytz\n",
    "from datetime import datetime\n",
    "from datetime import timedelta"
   ]
  },
  {
   "cell_type": "code",
   "execution_count": 2,
   "id": "3779d2c1",
   "metadata": {},
   "outputs": [
    {
     "name": "stdout",
     "output_type": "stream",
     "text": [
      "MetaTrader5 package author:  MetaQuotes Ltd.\n",
      "MetaTrader5 package version:  5.0.4200\n"
     ]
    }
   ],
   "source": [
    "# display data on the MetaTrader 5 package\n",
    "print(\"MetaTrader5 package author: \",mt5.__author__)\n",
    "print(\"MetaTrader5 package version: \",mt5.__version__)\n"
   ]
  },
  {
   "cell_type": "code",
   "execution_count": 3,
   "id": "935e1235",
   "metadata": {},
   "outputs": [],
   "source": [
    "# Initialize the MetaTrader 5 connection\n",
    "if not mt5.initialize():\n",
    "    print(\"initialize() failed, error code =\", mt5.last_error())\n",
    "    quit()"
   ]
  },
  {
   "cell_type": "code",
   "execution_count": 4,
   "id": "49ec7912",
   "metadata": {},
   "outputs": [],
   "source": [
    "login = 48438229  # Your account number\n",
    "password = \"Mq3p8!tJ\"  # Your account password\n",
    "server = \"HFMarketsGlobal-Demo\"  # Your broker's server\n"
   ]
  },
  {
   "cell_type": "code",
   "execution_count": 5,
   "id": "bde2c914",
   "metadata": {},
   "outputs": [
    {
     "name": "stdout",
     "output_type": "stream",
     "text": [
      "Connected to account # 48438229\n"
     ]
    }
   ],
   "source": [
    "# Login to the account\n",
    "if not mt5.login(login, password, server):\n",
    "    print(\"login() failed, error code =\", mt5.last_error())\n",
    "    quit()\n",
    "else:\n",
    "    print(\"Connected to account #\", login)\n"
   ]
  },
  {
   "cell_type": "code",
   "execution_count": 6,
   "id": "55e2b0ea",
   "metadata": {},
   "outputs": [],
   "source": [
    "symbol = \"EURUSD\"  # The symbol you want to trade\n",
    "lot = 0.1  # The number of lots to trade\n"
   ]
  },
  {
   "cell_type": "code",
   "execution_count": 7,
   "id": "1eca54a1",
   "metadata": {},
   "outputs": [],
   "source": [
    "# Check if the symbol is available for trading\n",
    "if not mt5.symbol_select(symbol, True):\n",
    "    print(f\"Failed to select {symbol}, error code =\", mt5.last_error())\n",
    "    quit()\n"
   ]
  },
  {
   "cell_type": "code",
   "execution_count": 8,
   "id": "8e3366ef",
   "metadata": {},
   "outputs": [],
   "source": [
    "symbol_info = mt5.symbol_info(symbol)\n",
    "if symbol_info is None:\n",
    "    print(f\"Symbol {symbol} not found, cannot call order_check()\")\n",
    "elif not symbol_info.visible:\n",
    "    print(f\"Symbol {symbol} is not visible, trying to switch on\")\n",
    "    if not mt5.symbol_select(symbol, True):\n",
    "        print(f\"Symbol {symbol} is not available for trading\")\n"
   ]
  },
  {
   "cell_type": "code",
   "execution_count": 9,
   "id": "ff865d15",
   "metadata": {},
   "outputs": [],
   "source": [
    "# Get the current price\n",
    "symbol_info = mt5.symbol_info_tick(symbol)\n",
    "if symbol_info is None:\n",
    "    print(f\"Failed to get symbol info for {symbol}, error code =\", mt5.last_error())\n",
    "    quit()"
   ]
  },
  {
   "cell_type": "code",
   "execution_count": 10,
   "id": "525ede6b",
   "metadata": {},
   "outputs": [],
   "source": [
    "# Prepare the buy request\n",
    "buy_request = {\n",
    "    \"action\": mt5.TRADE_ACTION_DEAL,\n",
    "    \"symbol\": symbol,\n",
    "    \"volume\": lot,\n",
    "    \"type\": mt5.ORDER_TYPE_BUY,\n",
    "    \"price\": symbol_info.ask,\n",
    "    \"deviation\": 10,\n",
    "    \"magic\": 234000,\n",
    "    \"comment\": \"python script open\",\n",
    "    \"type_time\": mt5.ORDER_TIME_GTC,\n",
    "    \"type_filling\": mt5.ORDER_FILLING_IOC,\n",
    "}"
   ]
  },
  {
   "cell_type": "code",
   "execution_count": 11,
   "id": "6952dfad",
   "metadata": {},
   "outputs": [
    {
     "name": "stdout",
     "output_type": "stream",
     "text": [
      "Min volume: 0.01, Max volume: 60.0\n"
     ]
    }
   ],
   "source": [
    "symbol_info = mt5.symbol_info(symbol)\n",
    "if symbol_info:\n",
    "    print(f\"Min volume: {symbol_info.volume_min}, Max volume: {symbol_info.volume_max}\")\n"
   ]
  },
  {
   "cell_type": "code",
   "execution_count": 12,
   "id": "f368ec09",
   "metadata": {},
   "outputs": [
    {
     "name": "stdout",
     "output_type": "stream",
     "text": [
      "Current ask price: 1.08094\n"
     ]
    }
   ],
   "source": [
    "symbol_info = mt5.symbol_info_tick(symbol)\n",
    "if symbol_info:\n",
    "    print(f\"Current ask price: {symbol_info.ask}\")\n"
   ]
  },
  {
   "cell_type": "code",
   "execution_count": 13,
   "id": "c74681e4",
   "metadata": {},
   "outputs": [],
   "source": [
    "# Send the buy request\n",
    "result = mt5.order_send(buy_request)\n"
   ]
  },
  {
   "cell_type": "code",
   "execution_count": 14,
   "id": "19aafdfa",
   "metadata": {},
   "outputs": [
    {
     "name": "stdout",
     "output_type": "stream",
     "text": [
      "Order failed, retcode=10030\n",
      "Error: OrderSendResult(retcode=10030, deal=0, order=0, volume=0.0, price=0.0, bid=0.0, ask=0.0, comment='Unsupported filling mode', request_id=0, retcode_external=0, request=TradeRequest(action=1, magic=234000, order=0, symbol='EURUSD', volume=0.1, price=1.08094, stoplimit=0.0, sl=0.0, tp=0.0, deviation=10, type=0, type_filling=1, type_time=0, expiration=0, comment='python script open', position=0, position_by=0))\n"
     ]
    }
   ],
   "source": [
    "result = mt5.order_send(buy_request)\n",
    "if result.retcode != mt5.TRADE_RETCODE_DONE:\n",
    "    print(f\"Order failed, retcode={result.retcode}\")\n",
    "    print(f\"Error: {result}\")\n",
    "else:\n",
    "    print(f\"Order placed successfully, ticket={result.order}\")\n"
   ]
  },
  {
   "cell_type": "code",
   "execution_count": 15,
   "id": "91f2a5d9",
   "metadata": {},
   "outputs": [
    {
     "name": "stdout",
     "output_type": "stream",
     "text": [
      "Order failed, retcode=10030\n"
     ]
    }
   ],
   "source": [
    "# Check the result\n",
    "if result.retcode != mt5.TRADE_RETCODE_DONE:\n",
    "    print(f\"Order failed, retcode={result.retcode}\")\n",
    "else:\n",
    "    print(f\"Order placed successfully, ticket={result.order}\")\n"
   ]
  },
  {
   "cell_type": "code",
   "execution_count": 16,
   "id": "278f62e8",
   "metadata": {},
   "outputs": [
    {
     "data": {
      "text/plain": [
       "True"
      ]
     },
     "execution_count": 16,
     "metadata": {},
     "output_type": "execute_result"
    }
   ],
   "source": [
    "# Shutdown connection\n",
    "mt5.shutdown()"
   ]
  },
  {
   "cell_type": "code",
   "execution_count": null,
   "id": "e5567c75",
   "metadata": {},
   "outputs": [],
   "source": []
  },
  {
   "cell_type": "code",
   "execution_count": null,
   "id": "c06b7333",
   "metadata": {},
   "outputs": [],
   "source": []
  },
  {
   "cell_type": "code",
   "execution_count": 19,
   "id": "1fa5797e",
   "metadata": {},
   "outputs": [
    {
     "name": "stdout",
     "output_type": "stream",
     "text": [
      "Order placed successfully, ticket=82715994\n"
     ]
    },
    {
     "data": {
      "text/plain": [
       "True"
      ]
     },
     "execution_count": 19,
     "metadata": {},
     "output_type": "execute_result"
    }
   ],
   "source": [
    "import MetaTrader5 as mt5\n",
    "\n",
    "# Initialize the MetaTrader 5 platform\n",
    "if not mt5.initialize():\n",
    "    print(\"initialize() failed\")\n",
    "    mt5.shutdown()\n",
    "login = 48438229  # Your account number\n",
    "password = \"Mq3p8!tJ\"  # Your account password\n",
    "server = \"HFMarketsGlobal-Demo\"  # Your broker's server\n",
    "\n",
    "# Ensure the symbol is available\n",
    "symbol = \"EURUSD\"\n",
    "symbol_info = mt5.symbol_info(symbol)\n",
    "if symbol_info is None:\n",
    "    print(f\"Symbol {symbol} not found, cannot call order_check()\")\n",
    "elif not symbol_info.visible:\n",
    "    print(f\"Symbol {symbol} is not visible, trying to switch on\")\n",
    "    if not mt5.symbol_select(symbol, True):\n",
    "        print(f\"Symbol {symbol} is not available for trading\")\n",
    "\n",
    "# Prepare the buy request\n",
    "lot = 0.1\n",
    "buy_request = {\n",
    "    \"action\": mt5.TRADE_ACTION_DEAL,\n",
    "    \"symbol\": symbol,\n",
    "    \"volume\": lot,\n",
    "    \"type\": mt5.ORDER_TYPE_BUY,\n",
    "    \"price\": mt5.symbol_info_tick(symbol).ask,\n",
    "    \"deviation\": 10,\n",
    "    \"magic\": 234000,\n",
    "    \"comment\": \"python script open\",\n",
    "    \"type_time\": mt5.ORDER_TIME_GTC,\n",
    "    \"type_filling\": mt5.ORDER_FILLING_FOK,\n",
    "}\n",
    "\n",
    "# Send the buy request\n",
    "result = mt5.order_send(buy_request)\n",
    "\n",
    "# Check the result\n",
    "if result.retcode != mt5.TRADE_RETCODE_DONE:\n",
    "    print(f\"Order failed, retcode={result.retcode}\")\n",
    "    print(f\"Error: {result}\")\n",
    "else:\n",
    "    print(f\"Order placed successfully, ticket={result.order}\")\n",
    "\n",
    "# Shutdown the MetaTrader 5 platform\n",
    "mt5.shutdown()\n"
   ]
  },
  {
   "cell_type": "code",
   "execution_count": 20,
   "id": "c4dde929",
   "metadata": {},
   "outputs": [
    {
     "name": "stdout",
     "output_type": "stream",
     "text": [
      "Order placed successfully, ticket=82716149\n"
     ]
    },
    {
     "data": {
      "text/plain": [
       "True"
      ]
     },
     "execution_count": 20,
     "metadata": {},
     "output_type": "execute_result"
    }
   ],
   "source": [
    "import MetaTrader5 as mt5\n",
    "\n",
    "# Initialize the MetaTrader 5 platform\n",
    "if not mt5.initialize():\n",
    "    print(\"initialize() failed\")\n",
    "    mt5.shutdown()\n",
    "login = 48438229  # Your account number\n",
    "password = \"Mq3p8!tJ\"  # Your account password\n",
    "server = \"HFMarketsGlobal-Demo\"  # Your broker's server\n",
    "\n",
    "# Ensure the symbol is available\n",
    "symbol = \"EURUSD\"\n",
    "symbol_info = mt5.symbol_info(symbol)\n",
    "if symbol_info is None:\n",
    "    print(f\"Symbol {symbol} not found, cannot call order_check()\")\n",
    "elif not symbol_info.visible:\n",
    "    print(f\"Symbol {symbol} is not visible, trying to switch on\")\n",
    "    if not mt5.symbol_select(symbol, True):\n",
    "        print(f\"Symbol {symbol} is not available for trading\")\n",
    "\n",
    "# Get current price\n",
    "symbol_tick = mt5.symbol_info_tick(symbol)\n",
    "ask_price = symbol_tick.ask\n",
    "\n",
    "# Define the lot size\n",
    "lot = 0.1\n",
    "\n",
    "# Calculate stop loss and take profit prices\n",
    "pip = 0.0001  # 1 pip for EURUSD is 0.0001\n",
    "stop_loss_pips = 50\n",
    "take_profit_pips = 50\n",
    "\n",
    "stop_loss_price = ask_price - stop_loss_pips * pip\n",
    "take_profit_price = ask_price + take_profit_pips * pip\n",
    "\n",
    "# Prepare the buy request\n",
    "buy_request = {\n",
    "    \"action\": mt5.TRADE_ACTION_DEAL,\n",
    "    \"symbol\": symbol,\n",
    "    \"volume\": lot,\n",
    "    \"type\": mt5.ORDER_TYPE_BUY,\n",
    "    \"price\": ask_price,\n",
    "    \"sl\": stop_loss_price,\n",
    "    \"tp\": take_profit_price,\n",
    "    \"deviation\": 10,\n",
    "    \"magic\": 234000,\n",
    "    \"comment\": \"python script open\",\n",
    "    \"type_time\": mt5.ORDER_TIME_GTC,\n",
    "    \"type_filling\": mt5.ORDER_FILLING_FOK,  # Using FOK filling mode\n",
    "}\n",
    "\n",
    "# Send the buy request\n",
    "result = mt5.order_send(buy_request)\n",
    "\n",
    "# Check the result\n",
    "if result.retcode != mt5.TRADE_RETCODE_DONE:\n",
    "    print(f\"Order failed, retcode={result.retcode}\")\n",
    "    print(f\"Error: {result}\")\n",
    "else:\n",
    "    print(f\"Order placed successfully, ticket={result.order}\")\n",
    "\n",
    "# Shutdown the MetaTrader 5 platform\n",
    "mt5.shutdown()\n"
   ]
  },
  {
   "cell_type": "code",
   "execution_count": 21,
   "id": "acfd8165",
   "metadata": {},
   "outputs": [
    {
     "name": "stdout",
     "output_type": "stream",
     "text": [
      "Buy stop order placed successfully, ticket=82716262\n",
      "Sell stop order placed successfully, ticket=82716263\n"
     ]
    },
    {
     "data": {
      "text/plain": [
       "True"
      ]
     },
     "execution_count": 21,
     "metadata": {},
     "output_type": "execute_result"
    }
   ],
   "source": [
    "import MetaTrader5 as mt5\n",
    "\n",
    "# Initialize the MetaTrader 5 platform\n",
    "if not mt5.initialize():\n",
    "    print(\"initialize() failed\")\n",
    "    mt5.shutdown()\n",
    "\n",
    "login = 48438229  # Your account number\n",
    "password = \"Mq3p8!tJ\"  # Your account password\n",
    "server = \"HFMarketsGlobal-Demo\"  # Your broker's server\n",
    "\n",
    "# Login to the trading account\n",
    "if not mt5.login(login, password, server):\n",
    "    print(f\"Failed to connect to account {login}\")\n",
    "    mt5.shutdown()\n",
    "\n",
    "# Ensure the symbol is available\n",
    "symbol = \"EURUSD\"\n",
    "symbol_info = mt5.symbol_info(symbol)\n",
    "if symbol_info is None:\n",
    "    print(f\"Symbol {symbol} not found, cannot call order_check()\")\n",
    "elif not symbol_info.visible:\n",
    "    print(f\"Symbol {symbol} is not visible, trying to switch on\")\n",
    "    if not mt5.symbol_select(symbol, True):\n",
    "        print(f\"Symbol {symbol} is not available for trading\")\n",
    "\n",
    "# Get current price\n",
    "symbol_tick = mt5.symbol_info_tick(symbol)\n",
    "ask_price = symbol_tick.ask\n",
    "bid_price = symbol_tick.bid\n",
    "\n",
    "# Define the lot size\n",
    "lot = 0.1\n",
    "\n",
    "# Calculate stop loss and take profit prices for buy stop and sell stop orders\n",
    "pip = 0.0001  # 1 pip for EURUSD is 0.0001\n",
    "stop_loss_pips = 50\n",
    "take_profit_pips = 50\n",
    "stop_pips = 10\n",
    "\n",
    "stop_loss_price_buy = ask_price - stop_loss_pips * pip\n",
    "take_profit_price_buy = ask_price + take_profit_pips * pip\n",
    "stop_price_buy = ask_price + stop_pips * pip\n",
    "\n",
    "stop_loss_price_sell = bid_price + stop_loss_pips * pip\n",
    "take_profit_price_sell = bid_price - take_profit_pips * pip\n",
    "stop_price_sell = bid_price - stop_pips * pip\n",
    "\n",
    "# Prepare the buy stop request\n",
    "buy_stop_request = {\n",
    "    \"action\": mt5.TRADE_ACTION_PENDING,\n",
    "    \"symbol\": symbol,\n",
    "    \"volume\": lot,\n",
    "    \"type\": mt5.ORDER_TYPE_BUY_STOP,\n",
    "    \"price\": stop_price_buy,\n",
    "    \"sl\": stop_loss_price_buy,\n",
    "    \"tp\": take_profit_price_buy,\n",
    "    \"deviation\": 10,\n",
    "    \"magic\": 234000,\n",
    "    \"comment\": \"python script buy stop\",\n",
    "    \"type_time\": mt5.ORDER_TIME_GTC,\n",
    "    \"type_filling\": mt5.ORDER_FILLING_FOK,  # Using FOK filling mode\n",
    "}\n",
    "\n",
    "# Prepare the sell stop request\n",
    "sell_stop_request = {\n",
    "    \"action\": mt5.TRADE_ACTION_PENDING,\n",
    "    \"symbol\": symbol,\n",
    "    \"volume\": lot,\n",
    "    \"type\": mt5.ORDER_TYPE_SELL_STOP,\n",
    "    \"price\": stop_price_sell,\n",
    "    \"sl\": stop_loss_price_sell,\n",
    "    \"tp\": take_profit_price_sell,\n",
    "    \"deviation\": 10,\n",
    "    \"magic\": 234000,\n",
    "    \"comment\": \"python script sell stop\",\n",
    "    \"type_time\": mt5.ORDER_TIME_GTC,\n",
    "    \"type_filling\": mt5.ORDER_FILLING_FOK,  # Using FOK filling mode\n",
    "}\n",
    "\n",
    "# Send the buy stop request\n",
    "result_buy_stop = mt5.order_send(buy_stop_request)\n",
    "\n",
    "# Check the buy stop result\n",
    "if result_buy_stop.retcode != mt5.TRADE_RETCODE_DONE:\n",
    "    print(f\"Buy stop order failed, retcode={result_buy_stop.retcode}\")\n",
    "    print(f\"Error: {result_buy_stop}\")\n",
    "else:\n",
    "    print(f\"Buy stop order placed successfully, ticket={result_buy_stop.order}\")\n",
    "\n",
    "# Send the sell stop request\n",
    "result_sell_stop = mt5.order_send(sell_stop_request)\n",
    "\n",
    "# Check the sell stop result\n",
    "if result_sell_stop.retcode != mt5.TRADE_RETCODE_DONE:\n",
    "    print(f\"Sell stop order failed, retcode={result_sell_stop.retcode}\")\n",
    "    print(f\"Error: {result_sell_stop}\")\n",
    "else:\n",
    "    print(f\"Sell stop order placed successfully, ticket={result_sell_stop.order}\")\n",
    "\n",
    "# Shutdown the MetaTrader 5 platform\n",
    "mt5.shutdown()\n"
   ]
  },
  {
   "cell_type": "code",
   "execution_count": null,
   "id": "5e15467d",
   "metadata": {},
   "outputs": [],
   "source": []
  },
  {
   "cell_type": "code",
   "execution_count": null,
   "id": "c2b8b38c",
   "metadata": {},
   "outputs": [
    {
     "name": "stdout",
     "output_type": "stream",
     "text": [
      "Order 3 - Time left: 0:22:00.859177Order 2 - Time left: 0:02:00.858670Order 1 - Time left: 0:00:00.858670Order 2 - Time left: 0:03:14.691087Order 2 - Time left: 0:03:13.679013Order 2 - Time left: 0:03:12.666823Order 2 - Time left: 0:03:11.654815Order 2 - Time left: 0:03:10.645227Order 2 - Time left: 0:03:09.639267Order 2 - Time left: 0:03:08.626595Order 2 - Time left: 0:03:07.615773Order 2 - Time left: 0:03:06.604979Order 2 - Time left: 0:03:05.595623Order 2 - Time left: 0:03:04.583238Order 2 - Time left: 0:03:03.577705Order 2 - Time left: 0:03:01.560962Order 2 - Time left: 0:03:00.551843Order 2 - Time left: 0:02:59.538257Order 2 - Time left: 0:02:58.530850Order 2 - Time left: 0:02:57.520526Order 2 - Time left: 0:02:56.513623Order 2 - Time left: 0:02:55.502177Order 2 - Time left: 0:02:54.493934Order 2 - Time left: 0:02:53.480872Order 2 - Time left: 0:02:52.473773Order 2 - Time left: 0:02:51.458198Order 2 - Time left: 0:02:50.448876Order 2 - Time left: 0:02:49.440096Order 2 - Time left: 0:02:47.375087Order 3 - Time left: 0:22:47.374786Order 2 - Time left: 0:02:45.359236Order 1 - Time left: 0:00:45.358315Order 3 - Time left: 0:22:44.345278Order 1 - Time left: 0:00:44.345278Order 3 - Time left: 0:22:42.332750Order 2 - Time left: 0:02:42.332484Order 1 - Time left: 0:00:42.332484Order 3 - Time left: 0:22:41.321518Order 2 - Time left: 0:02:41.321518Order 3 - Time left: 0:22:39.297733Order 2 - Time left: 0:02:39.297733Order 1 - Time left: 0:00:39.297233Order 1 - Time left: 0:00:38.287400Order 3 - Time left: 0:22:38.287365Order 2 - Time left: 0:02:38.287365Order 1 - Time left: 0:00:37.277469Order 2 - Time left: 0:02:37.277469Order 3 - Time left: 0:22:37.277469Order 3 - Time left: 0:22:36.267046Order 2 - Time left: 0:02:36.266050Order 1 - Time left: 0:00:36.266050Order 3 - Time left: 0:22:35.253088Order 1 - Time left: 0:00:35.253088Order 2 - Time left: 0:02:35.253088Order 3 - Time left: 0:22:34.245054Order 1 - Time left: 0:00:34.245054Order 2 - Time left: 0:02:34.245054Order 1 - Time left: 0:00:33.234871Order 3 - Time left: 0:22:33.234871Order 2 - Time left: 0:02:33.234871Order 1 - Time left: 0:00:32.226764Order 2 - Time left: 0:02:32.226764Order 3 - Time left: 0:22:28.179516Order 1 - Time left: 0:00:28.179516Order 1 - Time left: 0:00:27.170385Order 3 - Time left: 0:22:27.170385Order 2 - Time left: 0:02:27.170385Order 2 - Time left: 0:02:26.155760Order 3 - Time left: 0:22:26.155760Order 1 - Time left: 0:00:26.155760Order 2 - Time left: 0:02:25.148028Order 3 - Time left: 0:22:25.148028Order 1 - Time left: 0:00:25.148028Order 1 - Time left: 0:00:24.140294Order 3 - Time left: 0:22:24.140294Order 3 - Time left: 0:22:21.108586Order 2 - Time left: 0:02:21.108586Order 3 - Time left: 0:22:20.096329Order 1 - Time left: 0:00:20.096329Order 1 - Time left: 0:00:19.081990Order 2 - Time left: 0:02:19.081990Order 3 - Time left: 0:22:19.081990Order 3 - Time left: 0:22:18.073231Order 2 - Time left: 0:02:18.073053Order 1 - Time left: 0:00:18.072946Order 2 - Time left: 0:02:17.066432Order 1 - Time left: 0:00:17.066432Order 3 - Time left: 0:22:17.066432Order 1 - Time left: 0:00:16.044773Order 3 - Time left: 0:22:15.039463Order 2 - Time left: 0:02:15.039463Order 3 - Time left: 0:22:14.029459Order 2 - Time left: 0:02:14.029459Order 1 - Time left: 0:00:13.021111Order 3 - Time left: 0:22:13.021111Order 3 - Time left: 0:22:10.965822Order 2 - Time left: 0:02:10.965822Order 3 - Time left: 0:22:08.943503Order 2 - Time left: 0:02:08.943503Order 1 - Time left: 0:00:08.943503Order 1 - Time left: 0:00:07.929500Order 3 - Time left: 0:22:07.929500Order 2 - Time left: 0:02:05.905076Order 3 - Time left: 0:22:05.905076Order 1 - Time left: 0:00:05.905076Order 2 - Time left: 0:02:04.894873Order 1 - Time left: 0:00:04.894873Order 3 - Time left: 0:22:03.882940Order 1 - Time left: 0:00:03.882940Order 2 - Time left: 0:02:02.875170Order 1 - Time left: 0:00:02.874651Order 3 - Time left: 0:22:02.874651Order 2 - Time left: 0:02:01.866254Order 2 - Time left: 0:01:59.851986Order 1 time reached.Order 3 - Time left: 0:21:59.851503\n",
      "Buy stop order failed, retcode=10021\n",
      "Error: OrderSendResult(retcode=10021, deal=0, order=0, volume=0.0, price=0.0, bid=0.0, ask=0.0, comment='No prices', request_id=3684738189, retcode_external=0, request=TradeRequest(action=5, magic=234000, order=0, symbol='EURUSD', volume=0.1, price=1.08332, stoplimit=0.0, sl=1.07132, tp=1.09132, deviation=10, type=4, type_filling=0, type_time=0, expiration=0, comment='python script buy stop', position=0, position_by=0))\n",
      "Sell stop order failed, retcode=10021\n",
      "Error: OrderSendResult(retcode=10021, deal=0, order=0, volume=0.0, price=0.0, bid=0.0, ask=0.0, comment='No prices', request_id=3684738190, retcode_external=0, request=TradeRequest(action=5, magic=234000, order=0, symbol='EURUSD', volume=0.1, price=1.07897, stoplimit=0.0, sl=1.09097, tp=1.07097, deviation=10, type=5, type_filling=0, type_time=0, expiration=0, comment='python script sell stop', position=0, position_by=0))\n"
     ]
    },
    {
     "name": "stdout",
     "output_type": "stream",
     "text": [
      "Order 3 - Time left: 0:20:04.618548Order 3 - Time left: 0:20:11.683434Order 3 - Time left: 0:21:57.832157Order 2 - Time left: 0:01:57.831918Order 3 - Time left: 0:21:56.819207Order 2 - Time left: 0:01:56.819207Order 3 - Time left: 0:21:55.806898Order 2 - Time left: 0:01:55.806898Order 3 - Time left: 0:21:54.798797Order 2 - Time left: 0:01:54.798573Order 3 - Time left: 0:21:53.788833Order 2 - Time left: 0:01:53.788833Order 2 - Time left: 0:01:52.784073Order 3 - Time left: 0:21:52.783943Order 3 - Time left: 0:21:51.770602Order 2 - Time left: 0:01:49.746948Order 3 - Time left: 0:21:47.720782Order 2 - Time left: 0:01:47.720782Order 2 - Time left: 0:01:46.707336Order 3 - Time left: 0:21:46.707336Order 3 - Time left: 0:21:45.699479Order 2 - Time left: 0:01:45.698986Order 3 - Time left: 0:21:44.689378Order 2 - Time left: 0:01:44.689378Order 2 - Time left: 0:01:43.682286Order 3 - Time left: 0:21:43.682063Order 3 - Time left: 0:21:42.673385Order 2 - Time left: 0:01:42.673385Order 2 - Time left: 0:01:41.662002Order 2 - Time left: 0:01:39.641782Order 3 - Time left: 0:21:39.641782Order 2 - Time left: 0:01:38.624881Order 3 - Time left: 0:21:38.624881Order 3 - Time left: 0:21:37.616400Order 2 - Time left: 0:01:37.616400Order 3 - Time left: 0:21:36.608023Order 2 - Time left: 0:01:36.608023Order 2 - Time left: 0:01:35.597851Order 3 - Time left: 0:21:35.597851Order 2 - Time left: 0:01:34.583542Order 3 - Time left: 0:21:34.583381Order 3 - Time left: 0:21:33.575986Order 2 - Time left: 0:01:33.575986Order 3 - Time left: 0:21:32.566724Order 2 - Time left: 0:01:32.566724Order 3 - Time left: 0:21:31.561244Order 2 - Time left: 0:01:31.561244Order 3 - Time left: 0:21:30.553410Order 2 - Time left: 0:01:30.553410Order 3 - Time left: 0:21:29.547639Order 2 - Time left: 0:01:29.547639Order 3 - Time left: 0:21:28.533016Order 2 - Time left: 0:01:28.533016Order 3 - Time left: 0:21:27.523944Order 2 - Time left: 0:01:27.523944Order 3 - Time left: 0:21:26.513573Order 2 - Time left: 0:01:26.513573Order 2 - Time left: 0:01:25.505908Order 3 - Time left: 0:21:23.479029Order 2 - Time left: 0:01:23.479029Order 2 - Time left: 0:01:22.465633Order 3 - Time left: 0:21:22.465633Order 2 - Time left: 0:01:21.454497Order 3 - Time left: 0:21:21.454045Order 3 - Time left: 0:21:20.441170Order 2 - Time left: 0:01:20.440690Order 2 - Time left: 0:01:19.431792Order 3 - Time left: 0:21:19.431792Order 3 - Time left: 0:21:18.420092Order 3 - Time left: 0:21:16.399242Order 2 - Time left: 0:01:16.399242Order 2 - Time left: 0:01:15.389661Order 3 - Time left: 0:21:15.389661Order 3 - Time left: 0:21:14.383500Order 2 - Time left: 0:01:14.383500Order 2 - Time left: 0:01:13.372760Order 3 - Time left: 0:21:13.372760Order 3 - Time left: 0:21:12.345162Order 2 - Time left: 0:01:12.341650Order 3 - Time left: 0:21:11.333106Order 2 - Time left: 0:01:09.281423Order 3 - Time left: 0:21:09.281423Order 2 - Time left: 0:01:08.266956Order 3 - Time left: 0:21:08.266956Order 3 - Time left: 0:21:07.258177Order 2 - Time left: 0:01:07.258022Order 3 - Time left: 0:21:06.247835Order 2 - Time left: 0:01:06.247598Order 2 - Time left: 0:01:05.238702Order 3 - Time left: 0:21:05.238203Order 2 - Time left: 0:01:04.233752Order 3 - Time left: 0:21:04.233252Order 2 - Time left: 0:01:03.221302Order 3 - Time left: 0:21:03.221302Order 2 - Time left: 0:01:02.205965Order 3 - Time left: 0:21:02.205734Order 3 - Time left: 0:21:00.186944Order 2 - Time left: 0:01:00.186944Order 3 - Time left: 0:20:59.175524Order 2 - Time left: 0:00:59.175524Order 2 - Time left: 0:00:58.171190Order 3 - Time left: 0:20:58.170646Order 2 - Time left: 0:00:57.158198Order 3 - Time left: 0:20:57.157996Order 3 - Time left: 0:20:56.151577Order 2 - Time left: 0:00:56.151577Order 3 - Time left: 0:20:55.143469Order 2 - Time left: 0:00:55.143469Order 3 - Time left: 0:20:54.133528Order 2 - Time left: 0:00:54.132941Order 3 - Time left: 0:20:53.121953Order 2 - Time left: 0:00:53.121953Order 2 - Time left: 0:00:52.119287Order 3 - Time left: 0:20:52.118789Order 2 - Time left: 0:00:51.108086Order 3 - Time left: 0:20:51.108086Order 3 - Time left: 0:20:50.102165Order 2 - Time left: 0:00:50.102165Order 3 - Time left: 0:20:49.087525Order 2 - Time left: 0:00:49.087525Order 2 - Time left: 0:00:48.078933Order 3 - Time left: 0:20:48.078933Order 2 - Time left: 0:00:47.067508Order 3 - Time left: 0:20:47.066910Order 3 - Time left: 0:20:46.051796Order 2 - Time left: 0:00:46.051796Order 3 - Time left: 0:20:45.039480Order 2 - Time left: 0:00:45.039480Order 3 - Time left: 0:20:44.029820Order 2 - Time left: 0:00:44.029820Order 2 - Time left: 0:00:43.015113Order 3 - Time left: 0:20:43.015113Order 3 - Time left: 0:20:42.007848Order 2 - Time left: 0:00:42.007562Order 3 - Time left: 0:20:40.997657Order 2 - Time left: 0:00:40.997460Order 2 - Time left: 0:00:39.989120Order 3 - Time left: 0:20:39.988461Order 3 - Time left: 0:20:38.975728Order 2 - Time left: 0:00:38.975728Order 2 - Time left: 0:00:37.967722Order 3 - Time left: 0:20:37.967722Order 2 - Time left: 0:00:36.959288Order 3 - Time left: 0:20:36.959288Order 2 - Time left: 0:00:35.945734Order 3 - Time left: 0:20:35.945734Order 2 - Time left: 0:00:34.932440Order 3 - Time left: 0:20:34.932440Order 3 - Time left: 0:20:33.922647Order 2 - Time left: 0:00:33.922647Order 3 - Time left: 0:20:32.910464Order 2 - Time left: 0:00:32.910464Order 3 - Time left: 0:20:31.905098Order 2 - Time left: 0:00:31.904596Order 2 - Time left: 0:00:30.892472Order 3 - Time left: 0:20:30.892472Order 3 - Time left: 0:20:29.876636Order 2 - Time left: 0:00:29.876140Order 2 - Time left: 0:00:28.852641Order 2 - Time left: 0:00:26.829896Order 3 - Time left: 0:20:26.829896Order 2 - Time left: 0:00:25.822154Order 3 - Time left: 0:20:23.803688Order 2 - Time left: 0:00:23.802809Order 3 - Time left: 0:20:22.792845Order 2 - Time left: 0:00:20.776113Order 3 - Time left: 0:20:20.775905Order 2 - Time left: 0:00:19.764663Order 3 - Time left: 0:20:19.764663Order 3 - Time left: 0:20:18.752877Order 2 - Time left: 0:00:18.752877Order 2 - Time left: 0:00:17.742839Order 3 - Time left: 0:20:17.742839Order 2 - Time left: 0:00:16.735692Order 3 - Time left: 0:20:16.734835Order 3 - Time left: 0:20:15.726303Order 3 - Time left: 0:20:13.707974Order 2 - Time left: 0:00:13.707119Order 3 - Time left: 0:20:12.697754Order 2 - Time left: 0:00:10.671974Order 3 - Time left: 0:20:10.671974Order 2 - Time left: 0:00:09.659534Order 3 - Time left: 0:20:09.659034Order 3 - Time left: 0:20:08.653278Order 2 - Time left: 0:00:08.652778Order 3 - Time left: 0:20:07.640151\r"
     ]
    }
   ],
   "source": [
    "import MetaTrader5 as mt5\n",
    "import time\n",
    "import datetime\n",
    "import threading\n",
    "\n",
    "# Initialize the MetaTrader 5 platform\n",
    "if not mt5.initialize():\n",
    "    print(\"initialize() failed\")\n",
    "    mt5.shutdown()\n",
    "\n",
    "login = 48438229  # Your account number\n",
    "password = \"Mq3p8!tJ\"  # Your account password\n",
    "server = \"HFMarketsGlobal-Demo\"  # Your broker's server\n",
    "\n",
    "# Login to the trading account\n",
    "if not mt5.login(login, password, server):\n",
    "    print(f\"Failed to connect to account {login}\")\n",
    "    mt5.shutdown()\n",
    "\n",
    "# Ensure the symbol is available\n",
    "symbol = \"EURUSD\"\n",
    "symbol_info = mt5.symbol_info(symbol)\n",
    "if symbol_info is None:\n",
    "    print(f\"Symbol {symbol} not found, cannot call order_check()\")\n",
    "elif not symbol_info.visible:\n",
    "    print(f\"Symbol {symbol} is not visible, trying to switch on\")\n",
    "    if not mt5.symbol_select(symbol, True):\n",
    "        print(f\"Symbol {symbol} is not available for trading\")\n",
    "\n",
    "# Get current price\n",
    "symbol_tick = mt5.symbol_info_tick(symbol)\n",
    "ask_price = symbol_tick.ask\n",
    "bid_price = symbol_tick.bid\n",
    "\n",
    "# Define the lot size\n",
    "lot = 0.1\n",
    "\n",
    "# Calculate stop loss and take profit prices for buy stop and sell stop orders\n",
    "pip = 0.0001  # 1 pip for EURUSD is 0.0001\n",
    "stop_loss_pips = 100  # Increase stop loss distance\n",
    "take_profit_pips = 100  # Increase take profit distance\n",
    "stop_pips = 20  # Increase distance from current price for stop orders\n",
    "\n",
    "# Calculate stop loss and take profit prices for buy stop and sell stop orders\n",
    "stop_loss_price_buy = ask_price - stop_loss_pips * pip\n",
    "take_profit_price_buy = ask_price + take_profit_pips * pip\n",
    "stop_price_buy = ask_price + stop_pips * pip\n",
    "\n",
    "stop_loss_price_sell = bid_price + stop_loss_pips * pip\n",
    "take_profit_price_sell = bid_price - take_profit_pips * pip\n",
    "stop_price_sell = bid_price - stop_pips * pip\n",
    "\n",
    "\n",
    "# Prepare the buy stop request\n",
    "buy_stop_request = {\n",
    "    \"action\": mt5.TRADE_ACTION_PENDING,\n",
    "    \"symbol\": symbol,\n",
    "    \"volume\": lot,\n",
    "    \"type\": mt5.ORDER_TYPE_BUY_STOP,\n",
    "    \"price\": stop_price_buy,\n",
    "    \"sl\": stop_loss_price_buy,\n",
    "    \"tp\": take_profit_price_buy,\n",
    "    \"deviation\": 10,\n",
    "    \"magic\": 234000,\n",
    "    \"comment\": \"python script buy stop\",\n",
    "    \"type_time\": mt5.ORDER_TIME_GTC,\n",
    "    \"type_filling\": mt5.ORDER_FILLING_FOK,  # Using FOK filling mode\n",
    "}\n",
    "\n",
    "# Prepare the sell stop request\n",
    "sell_stop_request = {\n",
    "    \"action\": mt5.TRADE_ACTION_PENDING,\n",
    "    \"symbol\": symbol,\n",
    "    \"volume\": lot,\n",
    "    \"type\": mt5.ORDER_TYPE_SELL_STOP,\n",
    "    \"price\": stop_price_sell,\n",
    "    \"sl\": stop_loss_price_sell,\n",
    "    \"tp\": take_profit_price_sell,\n",
    "    \"deviation\": 10,\n",
    "    \"magic\": 234000,\n",
    "    \"comment\": \"python script sell stop\",\n",
    "    \"type_time\": mt5.ORDER_TIME_GTC,\n",
    "    \"type_filling\": mt5.ORDER_FILLING_FOK,  # Using FOK filling mode\n",
    "}\n",
    "\n",
    "# Define target times for buy stop and sell stop orders\n",
    "times = [\n",
    "    datetime.datetime(2024, 6, 12, 22, 48, 0),\n",
    "    datetime.datetime(2024, 6, 12, 22, 50, 0),\n",
    "    datetime.datetime(2024, 6, 12, 23, 10, 0),\n",
    "]\n",
    "\n",
    "order_threads = []\n",
    "\n",
    "def countdown(target_time, label):\n",
    "    while True:\n",
    "        now = datetime.datetime.now()\n",
    "        if now >= target_time:\n",
    "            print(f\"{label} time reached.\")\n",
    "            return\n",
    "        time_left = target_time - now\n",
    "        print(f\"{label} - Time left: {time_left}\", end='\\r')\n",
    "        time.sleep(1)\n",
    "\n",
    "def place_orders():\n",
    "    for target_time in times:\n",
    "        while datetime.datetime.now() < target_time:\n",
    "            time.sleep(1)\n",
    "        place_order(buy_stop_request, \"Buy stop\")\n",
    "        place_order(sell_stop_request, \"Sell stop\")\n",
    "\n",
    "def place_order(request, label):\n",
    "    result = mt5.order_send(request)\n",
    "    if result.retcode != mt5.TRADE_RETCODE_DONE:\n",
    "        print(f\"{label} order failed, retcode={result.retcode}\")\n",
    "        print(f\"Error: {result}\")\n",
    "    else:\n",
    "        print(f\"{label} order placed successfully, ticket={result.order}\")\n",
    "\n",
    "# Start countdown timers\n",
    "for idx, target_time in enumerate(times):\n",
    "    threading.Thread(target=countdown, args=(target_time, f\"Order {idx + 1}\")).start()\n",
    "\n",
    "# Start order placement thread\n",
    "order_thread = threading.Thread(target=place_orders)\n",
    "order_thread.start()\n",
    "\n",
    "# Join the order placement thread to ensure it completes before shutting down\n",
    "order_threads.append(order_thread)\n",
    "\n",
    "# Wait for all threads to complete before shutting down\n",
    "for thread in order_threads:\n",
    "    thread.join()\n",
    "\n",
    "# Shutdown the MetaTrader 5 platform\n",
    "mt5.shutdown()\n"
   ]
  },
  {
   "cell_type": "code",
   "execution_count": null,
   "id": "a47a9165",
   "metadata": {},
   "outputs": [],
   "source": []
  }
 ],
 "metadata": {
  "kernelspec": {
   "display_name": "Python 3 (ipykernel)",
   "language": "python",
   "name": "python3"
  },
  "language_info": {
   "codemirror_mode": {
    "name": "ipython",
    "version": 3
   },
   "file_extension": ".py",
   "mimetype": "text/x-python",
   "name": "python",
   "nbconvert_exporter": "python",
   "pygments_lexer": "ipython3",
   "version": "3.9.7"
  }
 },
 "nbformat": 4,
 "nbformat_minor": 5
}
